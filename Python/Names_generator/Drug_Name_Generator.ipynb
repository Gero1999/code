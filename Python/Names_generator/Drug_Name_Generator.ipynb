{
  "cells": [
    {
      "cell_type": "markdown",
      "metadata": {
        "id": "21XXWP7Fpt2L"
      },
      "source": [
        "# Pharmaceutical Name Generator\n",
        "\n",
        "The project is simply based on FDA approved products (comercial) names. Given a prompt, the generator will autocomplete the word to generate the potential name of your pharmaceutical inspired by the training data used. The data can be found here:\n",
        "\n",
        "https://www.rxlist.com/"
      ]
    },
    {
      "cell_type": "markdown",
      "metadata": {
        "id": "H6P0NU5Cpt2R"
      },
      "source": [
        "## Define and load the data\n",
        "\n",
        "1. Import the data\n",
        "2. Create a tokenizer\n",
        "3. Char to index and Index to char dictionaries"
      ]
    },
    {
      "cell_type": "code",
      "execution_count": 1,
      "metadata": {
        "id": "uq4CLmsLpt2P"
      },
      "outputs": [
        {
          "name": "stdout",
          "output_type": "stream",
          "text": [
            "abacavir\n",
            "abacavir and lamivudine\n",
            "abaloparatide\n",
            "abatacept\n",
            "abciximab\n",
            "abemaciclib\n",
            "abiraterone\n",
            "abobotuli\n"
          ]
        }
      ],
      "source": [
        "with open('drug_names.txt', 'r') as f:\n",
        "    data=f.read()\n",
        "\n",
        "print(data[:100])"
      ]
    },
    {
      "cell_type": "code",
      "execution_count": null,
      "metadata": {
        "id": "JqhtLuAHpt2R"
      },
      "outputs": [],
      "source": [
        "import tensorflow as tf"
      ]
    },
    {
      "cell_type": "code",
      "execution_count": 3,
      "metadata": {
        "id": "95Lo1Yqzpt2T"
      },
      "outputs": [],
      "source": [
        "tokenizer = tf.keras.preprocessing.text.Tokenizer(\n",
        "    filters='!\"#$%&()*+,-./:;<=>?@[\\\\]^_`{|}~',\n",
        "    split='\\n',\n",
        ")\n",
        "\n",
        "tokenizer.fit_on_texts(data)"
      ]
    },
    {
      "cell_type": "markdown",
      "metadata": {},
      "source": [
        "Here we create a dictionary of all the possible relevant characters from our training data. This will serve as a reference for text-understanding to our model "
      ]
    },
    {
      "cell_type": "code",
      "execution_count": 4,
      "metadata": {
        "id": "qYfC4sj2pt2V"
      },
      "outputs": [
        {
          "name": "stdout",
          "output_type": "stream",
          "text": [
            "{1: 'i', 2: 'a', 3: 'e', 4: 'o', 5: 'n', 6: 't', 7: 'l', 8: 'r', 9: 'c', 10: 'm', 11: ' ', 12: 'p', 13: 'd', 14: 's', 15: 'u', 16: 'b', 17: 'h', 18: 'f', 19: 'y', 20: 'g', 21: 'v', 22: 'z', 23: 'x', 24: 'k', 25: 'q', 26: 'w', 27: 'j', 28: '1', 29: '8', 30: '2', 31: '3', 32: '9', 33: \"'\", 34: '5', 35: '6', 36: '7', 37: '0', 38: '4'}\n"
          ]
        }
      ],
      "source": [
        "char_to_index = tokenizer.word_index\n",
        "index_to_char = dict((v,k) for k,v in char_to_index.items())  # Invert the token list so the integer/index values are the keys \n",
        "print(index_to_char)"
      ]
    },
    {
      "cell_type": "code",
      "execution_count": null,
      "metadata": {
        "id": "EO4-dPM6pt2X"
      },
      "outputs": [],
      "source": []
    },
    {
      "cell_type": "markdown",
      "metadata": {
        "id": "SMwtIw_Bpt2Z"
      },
      "source": [
        "## Tokenizer transformation\n",
        "\n",
        "1. Converting between names and sequences will give a language that the model can use to understand the word patterns"
      ]
    },
    {
      "cell_type": "code",
      "execution_count": 5,
      "metadata": {
        "id": "N7iQLIXzpt2a"
      },
      "outputs": [
        {
          "data": {
            "text/plain": [
              "['abacavir',\n",
              " 'abacavir and lamivudine',\n",
              " 'abaloparatide',\n",
              " 'abatacept',\n",
              " 'abciximab',\n",
              " 'abemaciclib',\n",
              " 'abiraterone',\n",
              " 'abobotulinumtoxina',\n",
              " 'abrocitinib',\n",
              " 'acai']"
            ]
          },
          "execution_count": 5,
          "metadata": {},
          "output_type": "execute_result"
        }
      ],
      "source": [
        "names = data.splitlines()\n",
        "names[:10]"
      ]
    },
    {
      "cell_type": "markdown",
      "metadata": {},
      "source": [
        "Here is the thing. How will our machine learning algorithm understand the first pharmaceutical name (Avacabir)? It will use the tokens list we generated previously and deconstruct the word into integer values. See here an example and the function definition that will perform this:"
      ]
    },
    {
      "cell_type": "code",
      "execution_count": 6,
      "metadata": {
        "id": "n_-TTfqipt2c"
      },
      "outputs": [
        {
          "data": {
            "text/plain": [
              "[2, 16, 2, 9, 2, 21, 1, 8]"
            ]
          },
          "execution_count": 6,
          "metadata": {},
          "output_type": "execute_result"
        }
      ],
      "source": [
        "def name_to_seq(name):\n",
        "    return [tokenizer.texts_to_sequences(char)[0][0] for char in name]\n",
        "\n",
        "name_to_seq(names[0]) # Example with the word \"Abacavir\""
      ]
    },
    {
      "cell_type": "markdown",
      "metadata": {},
      "source": [
        "We need to be able to also do the opposite action, and transform integer-sequences into words:"
      ]
    },
    {
      "cell_type": "code",
      "execution_count": 7,
      "metadata": {
        "id": "P6IsKH1Upt2e"
      },
      "outputs": [
        {
          "data": {
            "text/plain": [
              "'abacavir'"
            ]
          },
          "execution_count": 7,
          "metadata": {},
          "output_type": "execute_result"
        }
      ],
      "source": [
        "def seq_to_name(seq):\n",
        "    return ''.join([index_to_char[i] for i in seq if i!=0])\n",
        "\n",
        "seq_to_name(name_to_seq(names[0]))  # Example"
      ]
    },
    {
      "cell_type": "markdown",
      "metadata": {
        "id": "uCbAzsNjpt2m"
      },
      "source": [
        "## Generate patterns to feed for the model\n",
        "\n",
        "1. Creating sequences\n",
        "2. Padding all sequences"
      ]
    },
    {
      "cell_type": "markdown",
      "metadata": {},
      "source": []
    },
    {
      "cell_type": "code",
      "execution_count": null,
      "metadata": {
        "id": "zstNn-0dpt2m"
      },
      "outputs": [],
      "source": [
        "sequences = []\n",
        "\n",
        "for name in names:\n",
        "    seq = name_to_seq(name)\n",
        "    if len(seq) >= 2:\n",
        "        sequences += [seq[:i] for i in range(2, len(seq)+1)]"
      ]
    },
    {
      "cell_type": "code",
      "execution_count": 9,
      "metadata": {
        "id": "BjRTMysvpt2o"
      },
      "outputs": [
        {
          "name": "stdout",
          "output_type": "stream",
          "text": [
            "[[2, 16], [2, 16, 2], [2, 16, 2, 9], [2, 16, 2, 9, 2], [2, 16, 2, 9, 2, 21], [2, 16, 2, 9, 2, 21, 1], [2, 16, 2, 9, 2, 21, 1, 8], [2, 16], [2, 16, 2], [2, 16, 2, 9]]\n",
            "62\n"
          ]
        }
      ],
      "source": [
        "print(sequences[:10])\n",
        "\n",
        "max_len = max([len(x) for x in sequences])\n",
        "print(max_len)"
      ]
    },
    {
      "cell_type": "markdown",
      "metadata": {},
      "source": [
        "There is no index 0 as you may have noticed. 0 is gonna be our filler (pre-padding) for sequences that are shorter than the word with most letters. By this way we have a way to operate with all of them. Checked here the example with the first two letters of \"\":"
      ]
    },
    {
      "cell_type": "code",
      "execution_count": 10,
      "metadata": {
        "id": "SR68pu2tpt2q"
      },
      "outputs": [
        {
          "name": "stdout",
          "output_type": "stream",
          "text": [
            "[ 0  0  0  0  0  0  0  0  0  0  0  0  0  0  0  0  0  0  0  0  0  0  0  0\n",
            "  0  0  0  0  0  0  0  0  0  0  0  0  0  0  0  0  0  0  0  0  0  0  0  0\n",
            "  0  0  0  0  0  0  0  0  0  0  0  0  2 16]\n"
          ]
        }
      ],
      "source": [
        "padded_sequences = tf.keras.preprocessing.sequence.pad_sequences(\n",
        "    sequences, padding=\"pre\",\n",
        "    maxlen=max_len\n",
        ")\n",
        "print(padded_sequences[0])"
      ]
    },
    {
      "cell_type": "markdown",
      "metadata": {
        "id": "yJh6SEwNvSBp"
      },
      "source": [
        "## Creating Training and Validation Sets\n",
        "\n",
        "1. Let's create treaning and validation sets that our model can use"
      ]
    },
    {
      "cell_type": "code",
      "execution_count": 11,
      "metadata": {
        "id": "BE4BIeSnpt2v"
      },
      "outputs": [
        {
          "name": "stdout",
          "output_type": "stream",
          "text": [
            "(26845, 61) (26845,)\n"
          ]
        }
      ],
      "source": [
        "x,y = padded_sequences[:, :-1], padded_sequences[:,-1]\n",
        "print(x.shape, y.shape)"
      ]
    },
    {
      "cell_type": "code",
      "execution_count": 12,
      "metadata": {
        "id": "J6dbuCz0vSBp"
      },
      "outputs": [],
      "source": [
        "from sklearn.model_selection import train_test_split\n",
        "\n",
        "x_train, x_test, y_train, y_test = train_test_split(x,y)"
      ]
    },
    {
      "cell_type": "code",
      "execution_count": 13,
      "metadata": {
        "id": "cgqRZtqnpt2x"
      },
      "outputs": [
        {
          "name": "stdout",
          "output_type": "stream",
          "text": [
            "39\n"
          ]
        }
      ],
      "source": [
        "num_chars = len(char_to_index.keys())+1\n",
        "print(num_chars)"
      ]
    },
    {
      "cell_type": "markdown",
      "metadata": {
        "id": "Al5zWAhOvSBp"
      },
      "source": [
        "## Model definition"
      ]
    },
    {
      "cell_type": "markdown",
      "metadata": {},
      "source": [
        "We need to create a Recurrent Neural Network that can train with our padded_sequences:"
      ]
    },
    {
      "cell_type": "code",
      "execution_count": 14,
      "metadata": {
        "id": "hecfdrpcvSBp"
      },
      "outputs": [
        {
          "name": "stdout",
          "output_type": "stream",
          "text": [
            "Model: \"sequential\"\n",
            "_________________________________________________________________\n",
            " Layer (type)                Output Shape              Param #   \n",
            "=================================================================\n",
            " embedding (Embedding)       (None, 61, 8)             312       \n",
            "                                                                 \n",
            " conv1d (Conv1D)             (None, 61, 64)            2624      \n",
            "                                                                 \n",
            " max_pooling1d (MaxPooling1  (None, 30, 64)            0         \n",
            " D)                                                              \n",
            "                                                                 \n",
            " lstm (LSTM)                 (None, 32)                12416     \n",
            "                                                                 \n",
            " dense (Dense)               (None, 39)                1287      \n",
            "                                                                 \n",
            "=================================================================\n",
            "Total params: 16639 (65.00 KB)\n",
            "Trainable params: 16639 (65.00 KB)\n",
            "Non-trainable params: 0 (0.00 Byte)\n",
            "_________________________________________________________________\n"
          ]
        }
      ],
      "source": [
        "from tensorflow.keras.models import Sequential\n",
        "from tensorflow.keras.layers import Embedding, Conv1D, MaxPool1D, LSTM    # LSTM: Long Short-term memory network\n",
        "from tensorflow.keras.layers import Bidirectional, Dense  \n",
        "\n",
        "model = Sequential([\n",
        "    Embedding(num_chars, 8, input_length=max_len-1), # Embedding layer, typical in any NLP task (acts as a lookup table for the LSTM)\n",
        "    Conv1D(64, 5, strides=1, activation=\"tanh\", padding='causal'), # 64 filters, kernel size is 5 and strides 1. Causal padding (paddles are temporal depedendant by their shared word)\n",
        "    MaxPool1D(2),\n",
        "    LSTM(32),\n",
        "    Dense(num_chars, activation='softmax')  # Softmax activation for the classification task\n",
        "])\n",
        "\n",
        "model.compile(\n",
        "    loss = 'sparse_categorical_crossentropy',\n",
        "    optimizer='adam',\n",
        "    metrics=['accuracy']\n",
        ")\n",
        "\n",
        "model.summary()"
      ]
    },
    {
      "cell_type": "markdown",
      "metadata": {
        "id": "S6Jkj67XvSBp"
      },
      "source": [
        "## Training the Model"
      ]
    },
    {
      "cell_type": "code",
      "execution_count": 15,
      "metadata": {
        "id": "j0Ssl4qupt22"
      },
      "outputs": [
        {
          "name": "stdout",
          "output_type": "stream",
          "text": [
            "Epoch 1/30\n",
            "630/630 - 8s - loss: 2.9557 - accuracy: 0.1071 - val_loss: 2.8877 - val_accuracy: 0.1131 - 8s/epoch - 12ms/step\n",
            "Epoch 2/30\n",
            "630/630 - 5s - loss: 2.8652 - accuracy: 0.1308 - val_loss: 2.8104 - val_accuracy: 0.1441 - 5s/epoch - 8ms/step\n",
            "Epoch 3/30\n",
            "630/630 - 5s - loss: 2.7895 - accuracy: 0.1646 - val_loss: 2.7366 - val_accuracy: 0.1807 - 5s/epoch - 8ms/step\n",
            "Epoch 4/30\n",
            "630/630 - 5s - loss: 2.7288 - accuracy: 0.1856 - val_loss: 2.6826 - val_accuracy: 0.1983 - 5s/epoch - 8ms/step\n",
            "Epoch 5/30\n",
            "630/630 - 5s - loss: 2.6850 - accuracy: 0.2024 - val_loss: 2.6471 - val_accuracy: 0.2086 - 5s/epoch - 8ms/step\n",
            "Epoch 6/30\n",
            "630/630 - 6s - loss: 2.6506 - accuracy: 0.2115 - val_loss: 2.6238 - val_accuracy: 0.2189 - 6s/epoch - 10ms/step\n",
            "Epoch 7/30\n",
            "630/630 - 5s - loss: 2.6225 - accuracy: 0.2234 - val_loss: 2.6019 - val_accuracy: 0.2305 - 5s/epoch - 9ms/step\n",
            "Epoch 8/30\n",
            "630/630 - 5s - loss: 2.5970 - accuracy: 0.2297 - val_loss: 2.5890 - val_accuracy: 0.2302 - 5s/epoch - 8ms/step\n",
            "Epoch 9/30\n",
            "630/630 - 5s - loss: 2.5744 - accuracy: 0.2370 - val_loss: 2.5841 - val_accuracy: 0.2282 - 5s/epoch - 8ms/step\n",
            "Epoch 10/30\n",
            "630/630 - 5s - loss: 2.5529 - accuracy: 0.2409 - val_loss: 2.5639 - val_accuracy: 0.2327 - 5s/epoch - 8ms/step\n",
            "Epoch 11/30\n",
            "630/630 - 5s - loss: 2.5315 - accuracy: 0.2474 - val_loss: 2.5544 - val_accuracy: 0.2348 - 5s/epoch - 8ms/step\n",
            "Epoch 12/30\n",
            "630/630 - 5s - loss: 2.5139 - accuracy: 0.2533 - val_loss: 2.5482 - val_accuracy: 0.2418 - 5s/epoch - 8ms/step\n",
            "Epoch 13/30\n",
            "630/630 - 5s - loss: 2.4958 - accuracy: 0.2575 - val_loss: 2.5379 - val_accuracy: 0.2367 - 5s/epoch - 8ms/step\n",
            "Epoch 14/30\n",
            "630/630 - 6s - loss: 2.4779 - accuracy: 0.2614 - val_loss: 2.5288 - val_accuracy: 0.2448 - 6s/epoch - 9ms/step\n",
            "Epoch 15/30\n",
            "630/630 - 6s - loss: 2.4610 - accuracy: 0.2646 - val_loss: 2.5289 - val_accuracy: 0.2564 - 6s/epoch - 9ms/step\n",
            "Epoch 16/30\n",
            "630/630 - 6s - loss: 2.4448 - accuracy: 0.2701 - val_loss: 2.5152 - val_accuracy: 0.2530 - 6s/epoch - 10ms/step\n",
            "Epoch 17/30\n",
            "630/630 - 6s - loss: 2.4302 - accuracy: 0.2766 - val_loss: 2.5089 - val_accuracy: 0.2554 - 6s/epoch - 9ms/step\n",
            "Epoch 18/30\n",
            "630/630 - 6s - loss: 2.4141 - accuracy: 0.2799 - val_loss: 2.5087 - val_accuracy: 0.2600 - 6s/epoch - 9ms/step\n",
            "Epoch 19/30\n",
            "630/630 - 5s - loss: 2.4002 - accuracy: 0.2833 - val_loss: 2.5009 - val_accuracy: 0.2645 - 5s/epoch - 9ms/step\n",
            "Epoch 20/30\n",
            "630/630 - 6s - loss: 2.3848 - accuracy: 0.2893 - val_loss: 2.4904 - val_accuracy: 0.2685 - 6s/epoch - 9ms/step\n",
            "Epoch 21/30\n",
            "630/630 - 5s - loss: 2.3702 - accuracy: 0.2928 - val_loss: 2.4873 - val_accuracy: 0.2697 - 5s/epoch - 8ms/step\n",
            "Epoch 22/30\n",
            "630/630 - 5s - loss: 2.3568 - accuracy: 0.2986 - val_loss: 2.4838 - val_accuracy: 0.2691 - 5s/epoch - 8ms/step\n",
            "Epoch 23/30\n",
            "630/630 - 5s - loss: 2.3452 - accuracy: 0.2999 - val_loss: 2.4792 - val_accuracy: 0.2734 - 5s/epoch - 8ms/step\n",
            "Epoch 24/30\n",
            "630/630 - 5s - loss: 2.3315 - accuracy: 0.3057 - val_loss: 2.4749 - val_accuracy: 0.2768 - 5s/epoch - 8ms/step\n",
            "Epoch 25/30\n",
            "630/630 - 5s - loss: 2.3201 - accuracy: 0.3078 - val_loss: 2.4728 - val_accuracy: 0.2750 - 5s/epoch - 9ms/step\n",
            "Epoch 26/30\n",
            "630/630 - 5s - loss: 2.3074 - accuracy: 0.3151 - val_loss: 2.4628 - val_accuracy: 0.2796 - 5s/epoch - 9ms/step\n",
            "Epoch 27/30\n",
            "630/630 - 5s - loss: 2.2954 - accuracy: 0.3176 - val_loss: 2.4640 - val_accuracy: 0.2786 - 5s/epoch - 8ms/step\n",
            "Epoch 28/30\n",
            "630/630 - 5s - loss: 2.2834 - accuracy: 0.3212 - val_loss: 2.4634 - val_accuracy: 0.2847 - 5s/epoch - 8ms/step\n",
            "Epoch 29/30\n",
            "630/630 - 5s - loss: 2.2732 - accuracy: 0.3253 - val_loss: 2.4642 - val_accuracy: 0.2861 - 5s/epoch - 8ms/step\n",
            "Epoch 30/30\n",
            "630/630 - 6s - loss: 2.2608 - accuracy: 0.3282 - val_loss: 2.4633 - val_accuracy: 0.2831 - 6s/epoch - 9ms/step\n"
          ]
        }
      ],
      "source": [
        "h = model.fit(\n",
        "    x_train, y_train,\n",
        "    validation_data = (x_test, y_test),\n",
        "    epochs=30, verbose=2,\n",
        "    callbacks=[\n",
        "        tf.keras.callbacks.EarlyStopping(monitor='val_accuracy', patience=5)\n",
        "    ]\n",
        ")"
      ]
    },
    {
      "cell_type": "markdown",
      "metadata": {},
      "source": [
        "Lets represent the validation and training accuracy to check that the model did not overfit the data!"
      ]
    },
    {
      "cell_type": "code",
      "execution_count": 16,
      "metadata": {},
      "outputs": [
        {
          "data": {
            "image/png": "[encoded data removed]",
            "text/plain": [
              "<Figure size 432x288 with 1 Axes>"
            ]
          },
          "metadata": {
            "needs_background": "light"
          },
          "output_type": "display_data"
        }
      ],
      "source": [
        "from matplotlib import pyplot as plt\n",
        "epochs_ran = len(h.history['loss'])\n",
        "\n",
        "plt.plot(range(0, epochs_ran), h.history['val_accuracy'], label='Validation')\n",
        "plt.plot(range(0, epochs_ran), h.history['accuracy'], label='Training')\n",
        "plt.ylim([0,0.5])\n",
        "\n",
        "plt.legend()\n",
        "plt.show()"
      ]
    },
    {
      "cell_type": "markdown",
      "metadata": {
        "id": "0r9gcVvRvSBq"
      },
      "source": [
        "## Generate Pharmaceutical Names!"
      ]
    },
    {
      "cell_type": "code",
      "execution_count": 24,
      "metadata": {
        "id": "9f50aTRcpt24"
      },
      "outputs": [],
      "source": [
        "def generate_names(seed):\n",
        "    for i in range(0, 20):\n",
        "        seq = name_to_seq(seed)\n",
        "        padded = tf.keras.preprocessing.sequence.pad_sequences([seq], padding='pre', maxlen=(max_len-1), truncating='pre')\n",
        "        \n",
        "        pred = model.predict(padded)[0]\n",
        "        pred_char = index_to_char[tf.argmax(pred).numpy()]\n",
        "        seed += pred_char \n",
        "    \n",
        "        if pred_char == '\\t' or pred_char == ' ':\n",
        "            break\n",
        "    print(seed)"
      ]
    },
    {
      "cell_type": "code",
      "execution_count": 25,
      "metadata": {
        "id": "faQ0FInlpt26"
      },
      "outputs": [
        {
          "name": "stdout",
          "output_type": "stream",
          "text": [
            "1/1 [==============================] - 0s 19ms/step\n",
            "1/1 [==============================] - 0s 21ms/step\n",
            "1/1 [==============================] - 0s 16ms/step\n",
            "1/1 [==============================] - 0s 16ms/step\n",
            "1/1 [==============================] - 0s 17ms/step\n",
            "1/1 [==============================] - 0s 18ms/step\n",
            "gratiaii \n"
          ]
        }
      ],
      "source": [
        "# Here is an example of a name that will be generated just with my initials (GRA)\n",
        "generate_names('gra')"
      ]
    }
  ],
  "metadata": {
    "accelerator": "GPU",
    "colab": {
      "provenance": []
    },
    "kernelspec": {
      "display_name": "Python 3",
      "language": "python",
      "name": "python3"
    },
    "language_info": {
      "codemirror_mode": {
        "name": "ipython",
        "version": 3
      },
      "file_extension": ".py",
      "mimetype": "text/x-python",
      "name": "python",
      "nbconvert_exporter": "python",
      "pygments_lexer": "ipython3",
      "version": "3.9.7"
    }
  },
  "nbformat": 4,
  "nbformat_minor": 0
}
